{
 "cells": [
  {
   "cell_type": "code",
   "execution_count": 1,
   "metadata": {},
   "outputs": [],
   "source": [
    "import pandas as pd\n",
    "import numpy as np"
   ]
  },
  {
   "cell_type": "code",
   "execution_count": 2,
   "metadata": {},
   "outputs": [],
   "source": [
    "df = pd.read_csv('M:\\challenge\\data\\Train.csv')"
   ]
  },
  {
   "cell_type": "code",
   "execution_count": 3,
   "metadata": {},
   "outputs": [
    {
     "data": {
      "text/html": [
       "<div>\n",
       "<style scoped>\n",
       "    .dataframe tbody tr th:only-of-type {\n",
       "        vertical-align: middle;\n",
       "    }\n",
       "\n",
       "    .dataframe tbody tr th {\n",
       "        vertical-align: top;\n",
       "    }\n",
       "\n",
       "    .dataframe thead th {\n",
       "        text-align: right;\n",
       "    }\n",
       "</style>\n",
       "<table border=\"1\" class=\"dataframe\">\n",
       "  <thead>\n",
       "    <tr style=\"text-align: right;\">\n",
       "      <th></th>\n",
       "      <th>ID</th>\n",
       "      <th>filename</th>\n",
       "      <th>growth_stage</th>\n",
       "      <th>damage</th>\n",
       "      <th>extent</th>\n",
       "      <th>season</th>\n",
       "    </tr>\n",
       "  </thead>\n",
       "  <tbody>\n",
       "    <tr>\n",
       "      <th>0</th>\n",
       "      <td>ID_1S8OOWQYCB</td>\n",
       "      <td>L427F01330C01S03961Rp02052.jpg</td>\n",
       "      <td>S</td>\n",
       "      <td>WD</td>\n",
       "      <td>0</td>\n",
       "      <td>SR2020</td>\n",
       "    </tr>\n",
       "    <tr>\n",
       "      <th>1</th>\n",
       "      <td>ID_0MD959MIZ0</td>\n",
       "      <td>L1083F00930C39S12674Ip.jpg</td>\n",
       "      <td>V</td>\n",
       "      <td>G</td>\n",
       "      <td>0</td>\n",
       "      <td>SR2021</td>\n",
       "    </tr>\n",
       "    <tr>\n",
       "      <th>2</th>\n",
       "      <td>ID_JRJCI4Q11V</td>\n",
       "      <td>24_initial_1_1463_1463.JPG</td>\n",
       "      <td>V</td>\n",
       "      <td>G</td>\n",
       "      <td>0</td>\n",
       "      <td>LR2020</td>\n",
       "    </tr>\n",
       "    <tr>\n",
       "      <th>3</th>\n",
       "      <td>ID_DBO3ZGI1GM</td>\n",
       "      <td>L341F00167C01S00324Rp14178.jpg</td>\n",
       "      <td>M</td>\n",
       "      <td>DR</td>\n",
       "      <td>60</td>\n",
       "      <td>SR2020</td>\n",
       "    </tr>\n",
       "    <tr>\n",
       "      <th>4</th>\n",
       "      <td>ID_ORZLWTEUUS</td>\n",
       "      <td>L1084F02394C39S13931Ip.jpg</td>\n",
       "      <td>V</td>\n",
       "      <td>G</td>\n",
       "      <td>0</td>\n",
       "      <td>SR2021</td>\n",
       "    </tr>\n",
       "  </tbody>\n",
       "</table>\n",
       "</div>"
      ],
      "text/plain": [
       "              ID                        filename growth_stage damage  extent  \\\n",
       "0  ID_1S8OOWQYCB  L427F01330C01S03961Rp02052.jpg            S     WD       0   \n",
       "1  ID_0MD959MIZ0      L1083F00930C39S12674Ip.jpg            V      G       0   \n",
       "2  ID_JRJCI4Q11V      24_initial_1_1463_1463.JPG            V      G       0   \n",
       "3  ID_DBO3ZGI1GM  L341F00167C01S00324Rp14178.jpg            M     DR      60   \n",
       "4  ID_ORZLWTEUUS      L1084F02394C39S13931Ip.jpg            V      G       0   \n",
       "\n",
       "   season  \n",
       "0  SR2020  \n",
       "1  SR2021  \n",
       "2  LR2020  \n",
       "3  SR2020  \n",
       "4  SR2021  "
      ]
     },
     "execution_count": 3,
     "metadata": {},
     "output_type": "execute_result"
    }
   ],
   "source": [
    "df.head()"
   ]
  },
  {
   "cell_type": "code",
   "execution_count": null,
   "metadata": {},
   "outputs": [],
   "source": []
  }
 ],
 "metadata": {
  "kernelspec": {
   "display_name": "my",
   "language": "python",
   "name": "python3"
  },
  "language_info": {
   "codemirror_mode": {
    "name": "ipython",
    "version": 3
   },
   "file_extension": ".py",
   "mimetype": "text/x-python",
   "name": "python",
   "nbconvert_exporter": "python",
   "pygments_lexer": "ipython3",
   "version": "3.11.3"
  },
  "orig_nbformat": 4
 },
 "nbformat": 4,
 "nbformat_minor": 2
}
